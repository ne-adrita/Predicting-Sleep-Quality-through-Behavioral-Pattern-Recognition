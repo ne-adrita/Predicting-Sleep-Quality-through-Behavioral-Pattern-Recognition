{
  "nbformat": 4,
  "nbformat_minor": 0,
  "metadata": {
    "colab": {
      "provenance": [],
      "authorship_tag": "ABX9TyNs73HcOntanDyvHVo9EtVM",
      "include_colab_link": true
    },
    "kernelspec": {
      "name": "python3",
      "display_name": "Python 3"
    },
    "language_info": {
      "name": "python"
    }
  },
  "cells": [
    {
      "cell_type": "markdown",
      "metadata": {
        "id": "view-in-github",
        "colab_type": "text"
      },
      "source": [
        "<a href=\"https://colab.research.google.com/github/ne-adrita/Predicting-Sleep-Quality-through-Behavioral-Pattern-Recognition/blob/main/Stacking.ipynb\" target=\"_parent\"><img src=\"https://colab.research.google.com/assets/colab-badge.svg\" alt=\"Open In Colab\"/></a>"
      ]
    },
    {
      "cell_type": "code",
      "source": [
        "!pip install catboost\n"
      ],
      "metadata": {
        "id": "Dy3fTW73CMVW"
      },
      "execution_count": null,
      "outputs": []
    },
    {
      "cell_type": "code",
      "execution_count": 12,
      "metadata": {
        "colab": {
          "base_uri": "https://localhost:8080/",
          "height": 1000
        },
        "id": "JBpUj_GcBzgZ",
        "outputId": "a232a839-bd94-400b-8235-407dcb717e45"
      },
      "outputs": [
        {
          "output_type": "stream",
          "name": "stdout",
          "text": [
            "[LightGBM] [Info] Auto-choosing row-wise multi-threading, the overhead of testing was 0.000482 seconds.\n",
            "You can set `force_row_wise=true` to remove the overhead.\n",
            "And if memory is not enough, you can set `force_col_wise=true`.\n",
            "[LightGBM] [Info] Total Bins 1600\n",
            "[LightGBM] [Info] Number of data points in the train set: 3999, number of used features: 12\n",
            "[LightGBM] [Info] Start training from score 5.528632\n",
            "[LightGBM] [Info] Auto-choosing col-wise multi-threading, the overhead of testing was 0.000463 seconds.\n",
            "You can set `force_col_wise=true` to remove the overhead.\n",
            "[LightGBM] [Info] Total Bins 1603\n",
            "[LightGBM] [Info] Number of data points in the train set: 3199, number of used features: 12\n",
            "[LightGBM] [Info] Start training from score 5.527352\n",
            "[LightGBM] [Info] Auto-choosing col-wise multi-threading, the overhead of testing was 0.000458 seconds.\n",
            "You can set `force_col_wise=true` to remove the overhead.\n",
            "[LightGBM] [Info] Total Bins 1601\n",
            "[LightGBM] [Info] Number of data points in the train set: 3199, number of used features: 12\n",
            "[LightGBM] [Info] Start training from score 5.511722\n"
          ]
        },
        {
          "output_type": "stream",
          "name": "stderr",
          "text": [
            "/usr/local/lib/python3.11/dist-packages/sklearn/utils/validation.py:2739: UserWarning: X does not have valid feature names, but LGBMRegressor was fitted with feature names\n",
            "  warnings.warn(\n",
            "/usr/local/lib/python3.11/dist-packages/sklearn/utils/validation.py:2739: UserWarning: X does not have valid feature names, but LGBMRegressor was fitted with feature names\n",
            "  warnings.warn(\n"
          ]
        },
        {
          "output_type": "stream",
          "name": "stdout",
          "text": [
            "[LightGBM] [Info] Auto-choosing row-wise multi-threading, the overhead of testing was 0.000152 seconds.\n",
            "You can set `force_row_wise=true` to remove the overhead.\n",
            "And if memory is not enough, you can set `force_col_wise=true`.\n",
            "[LightGBM] [Info] Total Bins 1602\n",
            "[LightGBM] [Info] Number of data points in the train set: 3199, number of used features: 12\n",
            "[LightGBM] [Info] Start training from score 5.571116\n",
            "[LightGBM] [Info] Auto-choosing col-wise multi-threading, the overhead of testing was 0.000408 seconds.\n",
            "You can set `force_col_wise=true` to remove the overhead.\n",
            "[LightGBM] [Info] Total Bins 1601\n",
            "[LightGBM] [Info] Number of data points in the train set: 3199, number of used features: 12\n",
            "[LightGBM] [Info] Start training from score 5.502657\n"
          ]
        },
        {
          "output_type": "stream",
          "name": "stderr",
          "text": [
            "/usr/local/lib/python3.11/dist-packages/sklearn/utils/validation.py:2739: UserWarning: X does not have valid feature names, but LGBMRegressor was fitted with feature names\n",
            "  warnings.warn(\n",
            "/usr/local/lib/python3.11/dist-packages/sklearn/utils/validation.py:2739: UserWarning: X does not have valid feature names, but LGBMRegressor was fitted with feature names\n",
            "  warnings.warn(\n"
          ]
        },
        {
          "output_type": "stream",
          "name": "stdout",
          "text": [
            "[LightGBM] [Info] Auto-choosing col-wise multi-threading, the overhead of testing was 0.000464 seconds.\n",
            "You can set `force_col_wise=true` to remove the overhead.\n",
            "[LightGBM] [Info] Total Bins 1607\n",
            "[LightGBM] [Info] Number of data points in the train set: 3200, number of used features: 12\n",
            "[LightGBM] [Info] Start training from score 5.530312\n"
          ]
        },
        {
          "output_type": "stream",
          "name": "stderr",
          "text": [
            "/usr/local/lib/python3.11/dist-packages/sklearn/utils/validation.py:2739: UserWarning: X does not have valid feature names, but LGBMRegressor was fitted with feature names\n",
            "  warnings.warn(\n",
            "/usr/local/lib/python3.11/dist-packages/sklearn/utils/validation.py:2739: UserWarning: X does not have valid feature names, but LGBMRegressor was fitted with feature names\n",
            "  warnings.warn(\n"
          ]
        },
        {
          "output_type": "stream",
          "name": "stdout",
          "text": [
            "📊 Stacking Regressor Evaluation\n",
            "MAE: 2.4611958121112876\n",
            "MSE: 8.11123825782744\n",
            "R² Score: 0.0008206238279061528\n",
            "[LightGBM] [Info] Auto-choosing row-wise multi-threading, the overhead of testing was 0.000224 seconds.\n",
            "You can set `force_row_wise=true` to remove the overhead.\n",
            "And if memory is not enough, you can set `force_col_wise=true`.\n",
            "[LightGBM] [Info] Total Bins 1600\n",
            "[LightGBM] [Info] Number of data points in the train set: 3999, number of used features: 12\n",
            "[LightGBM] [Info] Start training from score -0.924199\n",
            "[LightGBM] [Info] Start training from score -1.190478\n",
            "[LightGBM] [Info] Start training from score -1.207062\n",
            "[LightGBM] [Info] Auto-choosing col-wise multi-threading, the overhead of testing was 0.000550 seconds.\n",
            "You can set `force_col_wise=true` to remove the overhead.\n",
            "[LightGBM] [Info] Total Bins 1602\n",
            "[LightGBM] [Info] Number of data points in the train set: 3199, number of used features: 12\n",
            "[LightGBM] [Info] Start training from score -0.923821\n",
            "[LightGBM] [Info] Start training from score -1.190209\n",
            "[LightGBM] [Info] Start training from score -1.207836\n"
          ]
        },
        {
          "output_type": "stream",
          "name": "stderr",
          "text": [
            "/usr/local/lib/python3.11/dist-packages/sklearn/utils/validation.py:2739: UserWarning: X does not have valid feature names, but LGBMClassifier was fitted with feature names\n",
            "  warnings.warn(\n"
          ]
        },
        {
          "output_type": "stream",
          "name": "stdout",
          "text": [
            "[LightGBM] [Info] Auto-choosing col-wise multi-threading, the overhead of testing was 0.000577 seconds.\n",
            "You can set `force_col_wise=true` to remove the overhead.\n",
            "[LightGBM] [Info] Total Bins 1600\n",
            "[LightGBM] [Info] Number of data points in the train set: 3199, number of used features: 12\n",
            "[LightGBM] [Info] Start training from score -0.923821\n",
            "[LightGBM] [Info] Start training from score -1.191238\n",
            "[LightGBM] [Info] Start training from score -1.206790\n"
          ]
        },
        {
          "output_type": "stream",
          "name": "stderr",
          "text": [
            "/usr/local/lib/python3.11/dist-packages/sklearn/utils/validation.py:2739: UserWarning: X does not have valid feature names, but LGBMClassifier was fitted with feature names\n",
            "  warnings.warn(\n"
          ]
        },
        {
          "output_type": "stream",
          "name": "stdout",
          "text": [
            "[LightGBM] [Info] Auto-choosing col-wise multi-threading, the overhead of testing was 0.000509 seconds.\n",
            "You can set `force_col_wise=true` to remove the overhead.\n",
            "[LightGBM] [Info] Total Bins 1603\n",
            "[LightGBM] [Info] Number of data points in the train set: 3199, number of used features: 12\n",
            "[LightGBM] [Info] Start training from score -0.924609\n",
            "[LightGBM] [Info] Start training from score -1.190209\n",
            "[LightGBM] [Info] Start training from score -1.206790\n"
          ]
        },
        {
          "output_type": "stream",
          "name": "stderr",
          "text": [
            "/usr/local/lib/python3.11/dist-packages/sklearn/utils/validation.py:2739: UserWarning: X does not have valid feature names, but LGBMClassifier was fitted with feature names\n",
            "  warnings.warn(\n"
          ]
        },
        {
          "output_type": "stream",
          "name": "stdout",
          "text": [
            "[LightGBM] [Info] Auto-choosing row-wise multi-threading, the overhead of testing was 0.000136 seconds.\n",
            "You can set `force_row_wise=true` to remove the overhead.\n",
            "And if memory is not enough, you can set `force_col_wise=true`.\n",
            "[LightGBM] [Info] Total Bins 1599\n",
            "[LightGBM] [Info] Number of data points in the train set: 3199, number of used features: 12\n",
            "[LightGBM] [Info] Start training from score -0.924609\n",
            "[LightGBM] [Info] Start training from score -1.190209\n",
            "[LightGBM] [Info] Start training from score -1.206790\n"
          ]
        },
        {
          "output_type": "stream",
          "name": "stderr",
          "text": [
            "/usr/local/lib/python3.11/dist-packages/sklearn/utils/validation.py:2739: UserWarning: X does not have valid feature names, but LGBMClassifier was fitted with feature names\n",
            "  warnings.warn(\n"
          ]
        },
        {
          "output_type": "stream",
          "name": "stdout",
          "text": [
            "[LightGBM] [Info] Auto-choosing col-wise multi-threading, the overhead of testing was 0.000475 seconds.\n",
            "You can set `force_col_wise=true` to remove the overhead.\n",
            "[LightGBM] [Info] Total Bins 1607\n",
            "[LightGBM] [Info] Number of data points in the train set: 3200, number of used features: 12\n",
            "[LightGBM] [Info] Start training from score -0.924134\n",
            "[LightGBM] [Info] Start training from score -1.190522\n",
            "[LightGBM] [Info] Start training from score -1.207103\n"
          ]
        },
        {
          "output_type": "stream",
          "name": "stderr",
          "text": [
            "/usr/local/lib/python3.11/dist-packages/sklearn/utils/validation.py:2739: UserWarning: X does not have valid feature names, but LGBMClassifier was fitted with feature names\n",
            "  warnings.warn(\n",
            "/usr/local/lib/python3.11/dist-packages/sklearn/utils/validation.py:2739: UserWarning: X does not have valid feature names, but LGBMClassifier was fitted with feature names\n",
            "  warnings.warn(\n"
          ]
        },
        {
          "output_type": "stream",
          "name": "stdout",
          "text": [
            "\n",
            "📊 Stacking Classifier Evaluation\n",
            "Accuracy: 0.392\n",
            "Classification Report:\n",
            "               precision    recall  f1-score   support\n",
            "\n",
            "        Poor       0.39      0.99      0.56       394\n",
            "     Average       0.33      0.01      0.02       310\n",
            "        Good       0.00      0.00      0.00       296\n",
            "\n",
            "    accuracy                           0.39      1000\n",
            "   macro avg       0.24      0.33      0.19      1000\n",
            "weighted avg       0.26      0.39      0.23      1000\n",
            "\n",
            "Confusion Matrix:\n",
            " [[389   4   1]\n",
            " [307   3   0]\n",
            " [294   2   0]]\n"
          ]
        },
        {
          "output_type": "display_data",
          "data": {
            "text/plain": [
              "<Figure size 640x480 with 2 Axes>"
            ],
            "image/png": "[encoded data removed]"
          },
          "metadata": {}
        }
      ],
      "source": [
        "# 📌 Step 1: Import libraries\n",
        "import pandas as pd\n",
        "import numpy as np\n",
        "from sklearn.model_selection import train_test_split\n",
        "from sklearn.preprocessing import LabelEncoder, StandardScaler\n",
        "from sklearn.ensemble import StackingClassifier, StackingRegressor\n",
        "from sklearn.linear_model import LogisticRegression, RidgeCV\n",
        "from sklearn.metrics import (\n",
        "    accuracy_score, classification_report, confusion_matrix,\n",
        "    mean_absolute_error, mean_squared_error, r2_score\n",
        ")\n",
        "from xgboost import XGBClassifier, XGBRegressor\n",
        "from lightgbm import LGBMClassifier, LGBMRegressor\n",
        "from catboost import CatBoostClassifier, CatBoostRegressor\n",
        "import matplotlib.pyplot as plt\n",
        "import seaborn as sns\n",
        "\n",
        "# 📂 Step 2: Load dataset\n",
        "df = pd.read_csv('/content/sleep_pattern_analysis_datasett.csv')\n",
        "\n",
        "# 🧹 Step 3: Clean data\n",
        "df.drop('Person_ID', axis=1, inplace=True)\n",
        "df['Work Hours (hrs/day)'] = pd.to_numeric(df['Work Hours (hrs/day)'], errors='coerce')\n",
        "df['Gender'] = LabelEncoder().fit_transform(df['Gender'])\n",
        "df.dropna(inplace=True)\n",
        "\n",
        "# 🎯 Step 4: Features and Targets\n",
        "X = df.drop('Sleep Quality', axis=1)\n",
        "y_reg = df['Sleep Quality']  # For regression\n",
        "y_class = y_reg.apply(lambda x: 0 if x <= 4 else (1 if x <= 7 else 2))  # For classification\n",
        "\n",
        "# ⚖ Step 5: Scale features\n",
        "scaler = StandardScaler()\n",
        "X_scaled = scaler.fit_transform(X)\n",
        "\n",
        "# -------------------------------\n",
        "# 🧠 Step 6A: Stacking Regressor\n",
        "# -------------------------------\n",
        "X_train_r, X_test_r, y_train_r, y_test_r = train_test_split(X_scaled, y_reg, test_size=0.2, random_state=42)\n",
        "\n",
        "reg_base_models = [\n",
        "    ('xgb', XGBRegressor(random_state=42)),\n",
        "    ('lgb', LGBMRegressor(random_state=42)),\n",
        "    ('cat', CatBoostRegressor(verbose=0, random_state=42))\n",
        "]\n",
        "\n",
        "reg_meta_model = RidgeCV()\n",
        "\n",
        "stack_reg = StackingRegressor(estimators=reg_base_models, final_estimator=reg_meta_model)\n",
        "stack_reg.fit(X_train_r, y_train_r)\n",
        "y_pred_r = stack_reg.predict(X_test_r)\n",
        "\n",
        "print(\"📊 Stacking Regressor Evaluation\")\n",
        "print(\"MAE:\", mean_absolute_error(y_test_r, y_pred_r))\n",
        "print(\"MSE:\", mean_squared_error(y_test_r, y_pred_r))\n",
        "print(\"R² Score:\", r2_score(y_test_r, y_pred_r))\n",
        "\n",
        "# -------------------------------\n",
        "# 🧠 Step 6B: Stacking Classifier\n",
        "# -------------------------------\n",
        "X_train_c, X_test_c, y_train_c, y_test_c = train_test_split(X_scaled, y_class, test_size=0.2, random_state=42)\n",
        "\n",
        "clf_base_models = [\n",
        "    ('xgb', XGBClassifier(random_state=42)),\n",
        "    ('lgb', LGBMClassifier(random_state=42)),\n",
        "    ('cat', CatBoostClassifier(verbose=0, random_state=42))\n",
        "]\n",
        "\n",
        "clf_meta_model = LogisticRegression(max_iter=1000)\n",
        "\n",
        "stack_clf = StackingClassifier(estimators=clf_base_models, final_estimator=clf_meta_model)\n",
        "stack_clf.fit(X_train_c, y_train_c)\n",
        "y_pred_c = stack_clf.predict(X_test_c)\n",
        "\n",
        "print(\"\\n📊 Stacking Classifier Evaluation\")\n",
        "print(\"Accuracy:\", accuracy_score(y_test_c, y_pred_c))\n",
        "print(\"Classification Report:\\n\", classification_report(y_test_c, y_pred_c, target_names=[\"Poor\", \"Average\", \"Good\"]))\n",
        "print(\"Confusion Matrix:\\n\", confusion_matrix(y_test_c, y_pred_c))\n",
        "\n",
        "# 🔍 Confusion Matrix Plot\n",
        "cm = confusion_matrix(y_test_c, y_pred_c)\n",
        "sns.heatmap(cm, annot=True, fmt='d', cmap='coolwarm',\n",
        "            xticklabels=[\"Poor\", \"Average\", \"Good\"],\n",
        "            yticklabels=[\"Poor\", \"Average\", \"Good\"])\n",
        "plt.title(\"Confusion Matrix - Stacking Classifier\")\n",
        "plt.xlabel(\"Predicted\")\n",
        "plt.ylabel(\"Actual\")\n",
        "plt.show()\n",
        "\n",
        "\n"
      ]
    }
  ]
}