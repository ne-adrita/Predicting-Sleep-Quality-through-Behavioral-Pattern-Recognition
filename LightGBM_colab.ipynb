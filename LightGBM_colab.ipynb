{
  "cells": [
    {
      "cell_type": "markdown",
      "metadata": {
        "id": "view-in-github",
        "colab_type": "text"
      },
      "source": [
        "<a href=\"https://colab.research.google.com/github/ne-adrita/Predicting-Sleep-Quality-through-Behavioral-Pattern-Recognition/blob/main/LightGBM_colab.ipynb\" target=\"_parent\"><img src=\"https://colab.research.google.com/assets/colab-badge.svg\" alt=\"Open In Colab\"/></a>"
      ]
    },
    {
      "cell_type": "code",
      "execution_count": null,
      "id": "c05d21e0",
      "metadata": {
        "colab": {
          "base_uri": "https://localhost:8080/"
        },
        "id": "c05d21e0",
        "outputId": "c49bdd71-dee5-457e-dc1f-7df97f1cff38"
      },
      "outputs": [
        {
          "output_type": "stream",
          "name": "stderr",
          "text": [
            "/usr/local/lib/python3.11/dist-packages/sklearn/utils/deprecation.py:151: FutureWarning: 'force_all_finite' was renamed to 'ensure_all_finite' in 1.6 and will be removed in 1.8.\n",
            "  warnings.warn(\n",
            "/usr/local/lib/python3.11/dist-packages/sklearn/utils/deprecation.py:151: FutureWarning: 'force_all_finite' was renamed to 'ensure_all_finite' in 1.6 and will be removed in 1.8.\n",
            "  warnings.warn(\n",
            "/usr/local/lib/python3.11/dist-packages/sklearn/utils/deprecation.py:151: FutureWarning: 'force_all_finite' was renamed to 'ensure_all_finite' in 1.6 and will be removed in 1.8.\n",
            "  warnings.warn(\n"
          ]
        },
        {
          "output_type": "stream",
          "name": "stdout",
          "text": [
            "[LightGBM] [Info] Auto-choosing row-wise multi-threading, the overhead of testing was 0.000403 seconds.\n",
            "You can set `force_row_wise=true` to remove the overhead.\n",
            "And if memory is not enough, you can set `force_col_wise=true`.\n",
            "[LightGBM] [Info] Total Bins 1600\n",
            "[LightGBM] [Info] Number of data points in the train set: 3999, number of used features: 12\n",
            "[LightGBM] [Info] Start training from score 5.528632\n",
            "📊 Regression Evaluation (LightGBM)\n",
            "MAE: 2.5349062671590645\n",
            "MSE: 8.873807311270003\n",
            "R²: -0.09311611516155693\n",
            "[LightGBM] [Info] Auto-choosing row-wise multi-threading, the overhead of testing was 0.000175 seconds.\n",
            "You can set `force_row_wise=true` to remove the overhead.\n",
            "And if memory is not enough, you can set `force_col_wise=true`.\n",
            "[LightGBM] [Info] Total Bins 1600\n",
            "[LightGBM] [Info] Number of data points in the train set: 3999, number of used features: 12\n",
            "[LightGBM] [Info] Start training from score -0.924199\n",
            "[LightGBM] [Info] Start training from score -1.190478\n",
            "[LightGBM] [Info] Start training from score -1.207062\n",
            "\n",
            "📊 Classification Evaluation (LightGBM)\n",
            "Accuracy: 0.361\n",
            "Classification Report:\n",
            "               precision    recall  f1-score   support\n",
            "\n",
            "        Poor       0.40      0.52      0.45       394\n",
            "     Average       0.32      0.27      0.30       310\n",
            "        Good       0.31      0.24      0.27       296\n",
            "\n",
            "    accuracy                           0.36      1000\n",
            "   macro avg       0.35      0.34      0.34      1000\n",
            "weighted avg       0.35      0.36      0.35      1000\n",
            "\n",
            "Confusion Matrix:\n",
            " [[205  98  91]\n",
            " [157  84  69]\n",
            " [147  77  72]]\n"
          ]
        },
        {
          "output_type": "stream",
          "name": "stderr",
          "text": [
            "/usr/local/lib/python3.11/dist-packages/sklearn/utils/deprecation.py:151: FutureWarning: 'force_all_finite' was renamed to 'ensure_all_finite' in 1.6 and will be removed in 1.8.\n",
            "  warnings.warn(\n"
          ]
        }
      ],
      "source": [
        "\n",
        "# 📌 Step 1: Import necessary libraries\n",
        "import pandas as pd\n",
        "import numpy as np\n",
        "from sklearn.model_selection import train_test_split\n",
        "from sklearn.preprocessing import LabelEncoder, StandardScaler\n",
        "from sklearn.metrics import (\n",
        "    mean_absolute_error, mean_squared_error, r2_score,\n",
        "    accuracy_score, classification_report, confusion_matrix\n",
        ")\n",
        "import lightgbm as lgb  # LightGBM library\n",
        "\n",
        "# 📂 Step 2: Load dataset\n",
        "df = pd.read_csv('/content/sleep_pattern_analysis_datasett.csv')  # Upload this file to Colab or local path\n",
        "\n",
        "# 🧹 Step 3: Data cleaning\n",
        "df.drop('Person_ID', axis=1, inplace=True)  # Drop the ID column\n",
        "df['Work Hours (hrs/day)'] = pd.to_numeric(df['Work Hours (hrs/day)'], errors='coerce')  # Convert to numeric\n",
        "df['Gender'] = LabelEncoder().fit_transform(df['Gender'])  # Label encode the gender column\n",
        "df.dropna(inplace=True)  # Drop rows with missing values\n",
        "\n",
        "# 🎯 Step 4: Feature and target split\n",
        "X = df.drop('Sleep Quality', axis=1)  # Features\n",
        "y = df['Sleep Quality']  # Target\n",
        "\n",
        "# ⚖️ Step 5: Feature scaling (optional for LightGBM, but kept for consistency)\n",
        "scaler = StandardScaler()\n",
        "X_scaled = scaler.fit_transform(X)\n",
        "\n",
        "# --------------------------\n",
        "# 🧠 Step 6A: Regression model using LightGBM\n",
        "# --------------------------\n",
        "X_train_r, X_test_r, y_train_r, y_test_r = train_test_split(X_scaled, y, test_size=0.2, random_state=42)\n",
        "\n",
        "regressor = lgb.LGBMRegressor(random_state=42)\n",
        "regressor.fit(X_train_r, y_train_r)\n",
        "y_pred_r = regressor.predict(X_test_r)\n",
        "\n",
        "print(\"📊 Regression Evaluation (LightGBM)\")\n",
        "print(\"MAE:\", mean_absolute_error(y_test_r, y_pred_r))\n",
        "print(\"MSE:\", mean_squared_error(y_test_r, y_pred_r))\n",
        "print(\"R²:\", r2_score(y_test_r, y_pred_r))\n",
        "\n",
        "# --------------------------\n",
        "# 🧠 Step 6B: Classification model using LightGBM\n",
        "# --------------------------\n",
        "# Convert sleep quality into categories: 0 = Poor, 1 = Average, 2 = Good\n",
        "y_class = y.apply(lambda x: 0 if x <= 4 else (1 if x <= 7 else 2))\n",
        "\n",
        "X_train_c, X_test_c, y_train_c, y_test_c = train_test_split(X_scaled, y_class, test_size=0.2, random_state=42)\n",
        "\n",
        "classifier = lgb.LGBMClassifier(random_state=42)\n",
        "classifier.fit(X_train_c, y_train_c)\n",
        "y_pred_c = classifier.predict(X_test_c)\n",
        "\n",
        "print(\"\\n📊 Classification Evaluation (LightGBM)\")\n",
        "print(\"Accuracy:\", accuracy_score(y_test_c, y_pred_c))\n",
        "print(\"Classification Report:\\n\", classification_report(y_test_c, y_pred_c, target_names=[\"Poor\", \"Average\", \"Good\"]))\n",
        "print(\"Confusion Matrix:\\n\", confusion_matrix(y_test_c, y_pred_c))\n",
        "\n"
      ]
    }
  ],
  "metadata": {
    "colab": {
      "provenance": [],
      "include_colab_link": true
    },
    "language_info": {
      "name": "python"
    },
    "kernelspec": {
      "name": "python3",
      "display_name": "Python 3"
    }
  },
  "nbformat": 4,
  "nbformat_minor": 5
}