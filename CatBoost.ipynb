{
  "nbformat": 4,
  "nbformat_minor": 0,
  "metadata": {
    "colab": {
      "provenance": [],
      "authorship_tag": "ABX9TyPrgSqiIca4gCfPra5RQ9eu",
      "include_colab_link": true
    },
    "kernelspec": {
      "name": "python3",
      "display_name": "Python 3"
    },
    "language_info": {
      "name": "python"
    }
  },
  "cells": [
    {
      "cell_type": "markdown",
      "metadata": {
        "id": "view-in-github",
        "colab_type": "text"
      },
      "source": [
        "<a href=\"https://colab.research.google.com/github/ne-adrita/Predicting-Sleep-Quality-through-Behavioral-Pattern-Recognition/blob/main/CatBoost.ipynb\" target=\"_parent\"><img src=\"https://colab.research.google.com/assets/colab-badge.svg\" alt=\"Open In Colab\"/></a>"
      ]
    },
    {
      "cell_type": "code",
      "source": [
        "!pip install catboost\n"
      ],
      "metadata": {
        "colab": {
          "base_uri": "https://localhost:8080/"
        },
        "id": "1oCexEMjTIwa",
        "outputId": "0913c486-60d3-4e37-a648-0f03a8a513a7"
      },
      "execution_count": 8,
      "outputs": [
        {
          "output_type": "stream",
          "name": "stdout",
          "text": [
            "Collecting catboost\n",
            "  Downloading catboost-1.2.8-cp311-cp311-manylinux2014_x86_64.whl.metadata (1.2 kB)\n",
            "Requirement already satisfied: graphviz in /usr/local/lib/python3.11/dist-packages (from catboost) (0.21)\n",
            "Requirement already satisfied: matplotlib in /usr/local/lib/python3.11/dist-packages (from catboost) (3.10.0)\n",
            "Requirement already satisfied: numpy<3.0,>=1.16.0 in /usr/local/lib/python3.11/dist-packages (from catboost) (2.0.2)\n",
            "Requirement already satisfied: pandas>=0.24 in /usr/local/lib/python3.11/dist-packages (from catboost) (2.2.2)\n",
            "Requirement already satisfied: scipy in /usr/local/lib/python3.11/dist-packages (from catboost) (1.15.3)\n",
            "Requirement already satisfied: plotly in /usr/local/lib/python3.11/dist-packages (from catboost) (5.24.1)\n",
            "Requirement already satisfied: six in /usr/local/lib/python3.11/dist-packages (from catboost) (1.17.0)\n",
            "Requirement already satisfied: python-dateutil>=2.8.2 in /usr/local/lib/python3.11/dist-packages (from pandas>=0.24->catboost) (2.9.0.post0)\n",
            "Requirement already satisfied: pytz>=2020.1 in /usr/local/lib/python3.11/dist-packages (from pandas>=0.24->catboost) (2025.2)\n",
            "Requirement already satisfied: tzdata>=2022.7 in /usr/local/lib/python3.11/dist-packages (from pandas>=0.24->catboost) (2025.2)\n",
            "Requirement already satisfied: contourpy>=1.0.1 in /usr/local/lib/python3.11/dist-packages (from matplotlib->catboost) (1.3.2)\n",
            "Requirement already satisfied: cycler>=0.10 in /usr/local/lib/python3.11/dist-packages (from matplotlib->catboost) (0.12.1)\n",
            "Requirement already satisfied: fonttools>=4.22.0 in /usr/local/lib/python3.11/dist-packages (from matplotlib->catboost) (4.59.0)\n",
            "Requirement already satisfied: kiwisolver>=1.3.1 in /usr/local/lib/python3.11/dist-packages (from matplotlib->catboost) (1.4.8)\n",
            "Requirement already satisfied: packaging>=20.0 in /usr/local/lib/python3.11/dist-packages (from matplotlib->catboost) (25.0)\n",
            "Requirement already satisfied: pillow>=8 in /usr/local/lib/python3.11/dist-packages (from matplotlib->catboost) (11.2.1)\n",
            "Requirement already satisfied: pyparsing>=2.3.1 in /usr/local/lib/python3.11/dist-packages (from matplotlib->catboost) (3.2.3)\n",
            "Requirement already satisfied: tenacity>=6.2.0 in /usr/local/lib/python3.11/dist-packages (from plotly->catboost) (8.5.0)\n",
            "Downloading catboost-1.2.8-cp311-cp311-manylinux2014_x86_64.whl (99.2 MB)\n",
            "\u001b[2K   \u001b[90m━━━━━━━━━━━━━━━━━━━━━━━━━━━━━━━━━━━━━━━━\u001b[0m \u001b[32m99.2/99.2 MB\u001b[0m \u001b[31m9.3 MB/s\u001b[0m eta \u001b[36m0:00:00\u001b[0m\n",
            "\u001b[?25hInstalling collected packages: catboost\n",
            "Successfully installed catboost-1.2.8\n"
          ]
        }
      ]
    },
    {
      "cell_type": "code",
      "execution_count": 9,
      "metadata": {
        "colab": {
          "base_uri": "https://localhost:8080/"
        },
        "id": "46edEDCEQ1M1",
        "outputId": "6b8cf395-db12-4a2e-f915-acfa5a669708"
      },
      "outputs": [
        {
          "output_type": "stream",
          "name": "stdout",
          "text": [
            "🎯 Classification Accuracy: 0.349\n",
            "📋 Classification Report:\n",
            "               precision    recall  f1-score   support\n",
            "\n",
            "        Poor       0.42      0.51      0.46       394\n",
            "     Average       0.30      0.24      0.26       310\n",
            "        Good       0.28      0.25      0.26       296\n",
            "\n",
            "    accuracy                           0.35      1000\n",
            "   macro avg       0.33      0.33      0.33      1000\n",
            "weighted avg       0.34      0.35      0.34      1000\n",
            "\n",
            "🔁 Confusion Matrix:\n",
            " [[201  88 105]\n",
            " [146  74  90]\n",
            " [134  88  74]]\n",
            "🧮 MAE: 2.535750523934219\n",
            "📉 MSE: 8.848910093175375\n",
            "📈 R2 Score: -0.09004916212017577\n"
          ]
        }
      ],
      "source": [
        "# 📌 Import libraries\n",
        "import pandas as pd\n",
        "import numpy as np\n",
        "from sklearn.model_selection import train_test_split\n",
        "from sklearn.preprocessing import LabelEncoder, StandardScaler\n",
        "from sklearn.metrics import (\n",
        "    mean_absolute_error, mean_squared_error, r2_score,\n",
        "    accuracy_score, classification_report, confusion_matrix\n",
        ")\n",
        "from catboost import CatBoostRegressor, CatBoostClassifier\n",
        "\n",
        "# 📂 Load dataset\n",
        "df = pd.read_csv('/content/sleep_pattern_analysis_datasett (1).csv')\n",
        "\n",
        "# 🧹 Clean data\n",
        "df.drop('Person_ID', axis=1, inplace=True)\n",
        "df['Work Hours (hrs/day)'] = pd.to_numeric(df['Work Hours (hrs/day)'], errors='coerce')\n",
        "df['Gender'] = LabelEncoder().fit_transform(df['Gender'])\n",
        "df.dropna(inplace=True)\n",
        "\n",
        "# 🎯 Features and targets\n",
        "X = df.drop('Sleep Quality', axis=1)\n",
        "y = df['Sleep Quality']  # For regression\n",
        "y_class = y.apply(lambda x: 0 if x <= 4 else (1 if x <= 7 else 2))  # For classification\n",
        "\n",
        "# ⚖ Feature scaling\n",
        "scaler = StandardScaler()\n",
        "X_scaled = scaler.fit_transform(X)\n",
        "\n",
        "# 🔀 Split for classification\n",
        "X_train_cls, X_test_cls, y_train_cls, y_test_cls = train_test_split(X_scaled, y_class, test_size=0.2, random_state=42)\n",
        "\n",
        "# 🔀 Split for regression\n",
        "X_train_reg, X_test_reg, y_train_reg, y_test_reg = train_test_split(X_scaled, y, test_size=0.2, random_state=42)\n",
        "\n",
        "# 🤖 Train CatBoostClassifier\n",
        "cat_cls = CatBoostClassifier(verbose=0)\n",
        "cat_cls.fit(X_train_cls, y_train_cls)\n",
        "y_pred_cls = cat_cls.predict(X_test_cls)\n",
        "\n",
        "# 📊 Classification Evaluation\n",
        "print(\"🎯 Classification Accuracy:\", accuracy_score(y_test_cls, y_pred_cls))\n",
        "print(\"📋 Classification Report:\\n\", classification_report(y_test_cls, y_pred_cls, target_names=[\"Poor\", \"Average\", \"Good\"]))\n",
        "print(\"🔁 Confusion Matrix:\\n\", confusion_matrix(y_test_cls, y_pred_cls))\n",
        "\n",
        "# 🤖 Train CatBoostRegressor\n",
        "cat_reg = CatBoostRegressor(verbose=0)\n",
        "cat_reg.fit(X_train_reg, y_train_reg)\n",
        "y_pred_reg = cat_reg.predict(X_test_reg)\n",
        "\n",
        "# 📊 Regression Evaluation\n",
        "print(\"🧮 MAE:\", mean_absolute_error(y_test_reg, y_pred_reg))\n",
        "print(\"📉 MSE:\", mean_squared_error(y_test_reg, y_pred_reg))\n",
        "print(\"📈 R2 Score:\", r2_score(y_test_reg, y_pred_reg))\n"
      ]
    }
  ]
}