{
  "cells": [
    {
      "cell_type": "code",
      "execution_count": null,
      "id": "c05d21e0",
      "metadata": {
        "colab": {
          "base_uri": "https://localhost:8080/"
        },
        "id": "c05d21e0",
        "outputId": "30e5ba9f-7241-4780-c7b1-e9f063fa9669"
      },
      "outputs": [
        {
          "output_type": "stream",
          "name": "stdout",
          "text": [
            "📊 Regression Evaluation\n",
            "MAE: 2.47025\n",
            "MSE: 8.358985100000002\n",
            "R²: -0.02969796375910061\n",
            "\n",
            "📊 Classification Evaluation\n",
            "Accuracy: 0.366\n",
            "Classification Report:\n",
            "               precision    recall  f1-score   support\n",
            "\n",
            "        Poor       0.40      0.64      0.50       394\n",
            "     Average       0.35      0.23      0.28       310\n",
            "        Good       0.25      0.14      0.18       296\n",
            "\n",
            "    accuracy                           0.37      1000\n",
            "   macro avg       0.33      0.34      0.32      1000\n",
            "weighted avg       0.34      0.37      0.33      1000\n",
            "\n",
            "Confusion Matrix:\n",
            " [[254  61  79]\n",
            " [190  70  50]\n",
            " [186  68  42]]\n"
          ]
        }
      ],
      "source": [
        "\n",
        "# Sleep Quality Prediction using Machine Learning (Regression & Classification)\n",
        "\n",
        "## 📌 Step 1: Import Libraries\n",
        "import pandas as pd\n",
        "import numpy as np\n",
        "from sklearn.model_selection import train_test_split\n",
        "from sklearn.preprocessing import LabelEncoder, StandardScaler\n",
        "from sklearn.ensemble import RandomForestRegressor, RandomForestClassifier\n",
        "from sklearn.metrics import mean_absolute_error, mean_squared_error, r2_score, accuracy_score, classification_report, confusion_matrix\n",
        "\n",
        "## 📂 Step 2: Load Dataset\n",
        "df = pd.read_csv('/content/sleep_pattern_analysis_datasett.csv')  # Upload this file to Colab first\n",
        "\n",
        "## 🧹 Step 3: Data Cleaning\n",
        "df.drop('Person_ID', axis=1, inplace=True)\n",
        "df['Work Hours (hrs/day)'] = pd.to_numeric(df['Work Hours (hrs/day)'], errors='coerce')\n",
        "le = LabelEncoder()\n",
        "df['Gender'] = le.fit_transform(df['Gender'])\n",
        "df.dropna(inplace=True)\n",
        "\n",
        "## 🎯 Step 4: Feature and Target Split\n",
        "X = df.drop('Sleep Quality', axis=1)\n",
        "y = df['Sleep Quality']\n",
        "\n",
        "## ⚖️ Step 5: Feature Scaling\n",
        "scaler = StandardScaler()\n",
        "X_scaled = scaler.fit_transform(X)\n",
        "\n",
        "# --------------------------\n",
        "# 🧠 Step 6A: Regression Model\n",
        "# --------------------------\n",
        "X_train_r, X_test_r, y_train_r, y_test_r = train_test_split(X_scaled, y, test_size=0.2, random_state=42)\n",
        "regressor = RandomForestRegressor(random_state=42)\n",
        "regressor.fit(X_train_r, y_train_r)\n",
        "y_pred_r = regressor.predict(X_test_r)\n",
        "\n",
        "print(\"📊 Regression Evaluation\")\n",
        "print(\"MAE:\", mean_absolute_error(y_test_r, y_pred_r))\n",
        "print(\"MSE:\", mean_squared_error(y_test_r, y_pred_r))\n",
        "print(\"R²:\", r2_score(y_test_r, y_pred_r))\n",
        "\n",
        "# --------------------------\n",
        "# 🧠 Step 6B: Classification Model\n",
        "# --------------------------\n",
        "y_class = y.apply(lambda x: 0 if x <= 4 else (1 if x <= 7 else 2))  # 0=Poor, 1=Average, 2=Good\n",
        "X_train_c, X_test_c, y_train_c, y_test_c = train_test_split(X_scaled, y_class, test_size=0.2, random_state=42)\n",
        "classifier = RandomForestClassifier(random_state=42)\n",
        "classifier.fit(X_train_c, y_train_c)\n",
        "y_pred_c = classifier.predict(X_test_c)\n",
        "\n",
        "print(\"\\n📊 Classification Evaluation\")\n",
        "print(\"Accuracy:\", accuracy_score(y_test_c, y_pred_c))\n",
        "print(\"Classification Report:\\n\", classification_report(y_test_c, y_pred_c, target_names=[\"Poor\", \"Average\", \"Good\"]))\n",
        "print(\"Confusion Matrix:\\n\", confusion_matrix(y_test_c, y_pred_c))\n"
      ]
    }
  ],
  "metadata": {
    "colab": {
      "provenance": []
    },
    "language_info": {
      "name": "python"
    },
    "kernelspec": {
      "name": "python3",
      "display_name": "Python 3"
    }
  },
  "nbformat": 4,
  "nbformat_minor": 5
}