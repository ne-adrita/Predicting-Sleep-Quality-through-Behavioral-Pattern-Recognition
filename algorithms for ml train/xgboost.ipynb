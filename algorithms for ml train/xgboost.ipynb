{
  "nbformat": 4,
  "nbformat_minor": 0,
  "metadata": {
    "colab": {
      "provenance": []
    },
    "kernelspec": {
      "name": "python3",
      "display_name": "Python 3"
    },
    "language_info": {
      "name": "python"
    }
  },
  "cells": [
    {
      "cell_type": "code",
      "source": [
        "# 📌 Step 1: Import necessary libraries\n",
        "import pandas as pd\n",
        "import numpy as np\n",
        "from sklearn.model_selection import train_test_split\n",
        "from sklearn.preprocessing import LabelEncoder, StandardScaler\n",
        "from sklearn.metrics import (\n",
        "    mean_absolute_error, mean_squared_error, r2_score,\n",
        "    accuracy_score, classification_report, confusion_matrix\n",
        ")\n",
        "import xgboost as xgb  # Make sure XGBoost is installed\n",
        "\n",
        "# 📂 Step 2: Load dataset\n",
        "df = pd.read_csv('/content/sleep_pattern_analysis_datasett.csv')  # Upload in Colab first\n",
        "\n",
        "# 🧹 Step 3: Data cleaning\n",
        "df.drop('Person_ID', axis=1, inplace=True)\n",
        "df['Work Hours (hrs/day)'] = pd.to_numeric(df['Work Hours (hrs/day)'], errors='coerce')\n",
        "df['Gender'] = LabelEncoder().fit_transform(df['Gender'])\n",
        "df.dropna(inplace=True)\n",
        "\n",
        "# 🎯 Step 4: Split features and target\n",
        "X = df.drop('Sleep Quality', axis=1)\n",
        "y = df['Sleep Quality']\n",
        "\n",
        "# ⚖️ Step 5: Feature scaling (optional)\n",
        "scaler = StandardScaler()\n",
        "X_scaled = scaler.fit_transform(X)\n",
        "\n",
        "# --------------------------\n",
        "# 🧠 Step 6A: Regression Model with XGBoost\n",
        "# --------------------------\n",
        "X_train_r, X_test_r, y_train_r, y_test_r = train_test_split(X_scaled, y, test_size=0.2, random_state=42)\n",
        "regressor = xgb.XGBRegressor(random_state=42)\n",
        "regressor.fit(X_train_r, y_train_r)\n",
        "y_pred_r = regressor.predict(X_test_r)\n",
        "\n",
        "print(\"📊 Regression Evaluation (XGBoost)\")\n",
        "print(\"MAE:\", mean_absolute_error(y_test_r, y_pred_r))\n",
        "print(\"MSE:\", mean_squared_error(y_test_r, y_pred_r))\n",
        "print(\"R²:\", r2_score(y_test_r, y_pred_r))\n",
        "\n",
        "# --------------------------\n",
        "# 🧠 Step 6B: Classification Model with XGBoost\n",
        "# --------------------------\n",
        "# Convert numeric quality into categories\n",
        "y_class = y.apply(lambda x: 0 if x <= 4 else (1 if x <= 7 else 2))  # 0=Poor, 1=Average, 2=Good\n",
        "\n",
        "X_train_c, X_test_c, y_train_c, y_test_c = train_test_split(X_scaled, y_class, test_size=0.2, random_state=42)\n",
        "classifier = xgb.XGBClassifier(random_state=42)\n",
        "classifier.fit(X_train_c, y_train_c)\n",
        "y_pred_c = classifier.predict(X_test_c)\n",
        "\n",
        "print(\"\\n📊 Classification Evaluation (XGBoost)\")\n",
        "print(\"Accuracy:\", accuracy_score(y_test_c, y_pred_c))\n",
        "print(\"Classification Report:\\n\", classification_report(y_test_c, y_pred_c, target_names=[\"Poor\", \"Average\", \"Good\"]))\n",
        "print(\"Confusion Matrix:\\n\", confusion_matrix(y_test_c, y_pred_c))"
      ],
      "metadata": {
        "colab": {
          "base_uri": "https://localhost:8080/"
        },
        "id": "cGZjxCVvlYl3",
        "outputId": "047ca6ee-33db-4ff5-bafb-79314f57cb33"
      },
      "execution_count": null,
      "outputs": [
        {
          "output_type": "stream",
          "name": "stdout",
          "text": [
            "📊 Regression Evaluation (XGBoost)\n",
            "MAE: 2.638400077819824\n",
            "MSE: 9.692822456359863\n",
            "R²: -0.19400620460510254\n",
            "\n",
            "📊 Classification Evaluation (XGBoost)\n",
            "Accuracy: 0.354\n",
            "Classification Report:\n",
            "               precision    recall  f1-score   support\n",
            "\n",
            "        Poor       0.42      0.50      0.46       394\n",
            "     Average       0.33      0.28      0.30       310\n",
            "        Good       0.26      0.24      0.25       296\n",
            "\n",
            "    accuracy                           0.35      1000\n",
            "   macro avg       0.34      0.34      0.34      1000\n",
            "weighted avg       0.35      0.35      0.35      1000\n",
            "\n",
            "Confusion Matrix:\n",
            " [[196  90 108]\n",
            " [132  87  91]\n",
            " [139  86  71]]\n"
          ]
        }
      ]
    }
  ]
}